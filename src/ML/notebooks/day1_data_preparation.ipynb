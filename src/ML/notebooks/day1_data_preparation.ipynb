{
 "cells": [
  {
   "cell_type": "code",
   "execution_count": null,
   "id": "bb1790ff",
   "metadata": {
    "vscode": {
     "languageId": "plaintext"
    }
   },
   "outputs": [],
   "source": [
    "import pandas as pd\n",
    "import matplotlib.pyplot as plt\n",
    "\n",
    "# Загружаем CSV\n",
    "df = pd.read_csv('../data/price_data.csv', parse_dates=['date'])\n",
    "df = df.sort_values('date')\n",
    "print(\"Первые строки:\\n\", df.head())\n",
    "\n",
    "# Добавим день недели (0 — понедельник, 6 — воскресенье)\n",
    "df['day_of_week'] = df['date'].dt.dayofweek\n",
    "\n",
    "# Добавим скользящее среднее за 3 дня\n",
    "df['rolling_mean_3'] = df['price'].rolling(window=3).mean()\n",
    "\n",
    "# Удалим первые строки с NaN (появились из-за скользящего среднего)\n",
    "df.dropna(inplace=True)\n",
    "\n",
    "# Визуализируем\n",
    "plt.plot(df['date'], df['price'], label='Цена')\n",
    "plt.plot(df['date'], df['rolling_mean_3'], label='Скользящее среднее (3 дня)')\n",
    "plt.xticks(rotation=45)\n",
    "plt.legend()\n",
    "plt.grid()\n",
    "plt.tight_layout()\n",
    "plt.title(\"Цены со скользящим средним\")\n",
    "plt.show()\n",
    "\n",
    "# Формируем признаки X и целевую переменную y\n",
    "X = df[['day_of_week', 'rolling_mean_3']]\n",
    "y = df['price']\n",
    "\n",
    "print(\"\\nX (признаки):\\n\", X.head())\n",
    "print(\"\\ny (целевая переменная):\\n\", y.head())"
   ]
  }
 ],
 "metadata": {
  "language_info": {
   "name": "python"
  }
 },
 "nbformat": 4,
 "nbformat_minor": 5
}
