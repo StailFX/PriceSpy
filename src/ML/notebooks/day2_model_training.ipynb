{
 "cells": [
  {
   "cell_type": "markdown",
   "id": "88fb309c",
   "metadata": {},
   "source": [
    "День 2: сравнение LinearRegression и RandomForest\n",
    "Сохранение модели и тестовый запуск API\n",
    "Тест на 4 пред. днях в Jupyter"
   ]
  },
  {
   "cell_type": "code",
   "execution_count": 2,
   "id": "dc8e26ae",
   "metadata": {},
   "outputs": [
    {
     "name": "stdout",
     "output_type": "stream",
     "text": [
      "MAE: 0.32\n",
      "RMSE: 0.34\n"
     ]
    }
   ],
   "source": [
    "# 📦 Импорт библиотек\n",
    "import pandas as pd\n",
    "import numpy as np\n",
    "from sklearn.model_selection import train_test_split\n",
    "from sklearn.linear_model import LinearRegression\n",
    "from sklearn.metrics import mean_absolute_error, mean_squared_error\n",
    "\n",
    "# 📥 Загрузка данных\n",
    "df = pd.read_csv('../data/price_data.csv', parse_dates=['date'])\n",
    "\n",
    "# 🧪 Генерация признаков\n",
    "df['day_of_week'] = df['date'].dt.dayofweek\n",
    "df['rolling_mean_3'] = df['price'].rolling(window=3).mean()\n",
    "df['rolling_std_3'] = df['price'].rolling(window=3).std()\n",
    "df['price_diff'] = df['price'].diff()\n",
    "\n",
    "# 🧹 Очистка от NaN\n",
    "df = df.dropna().reset_index(drop=True)\n",
    "\n",
    "# 🎯 Целевая переменная и признаки\n",
    "X = df.drop(columns=['price', 'date'])  # признаки\n",
    "y = df['price']                         # целевая переменная\n",
    "\n",
    "# ✂️ Разделение на train/test\n",
    "X_train, X_test, y_train, y_test = train_test_split(\n",
    "    X, y, test_size=0.2, random_state=42\n",
    ")\n",
    "\n",
    "# 🤖 Обучение модели\n",
    "model = LinearRegression()\n",
    "model.fit(X_train, y_train)\n",
    "\n",
    "# 📊 Прогноз и оценка\n",
    "y_pred = model.predict(X_test)\n",
    "\n",
    "mae = mean_absolute_error(y_test, y_pred)\n",
    "rmse = np.sqrt(mean_squared_error(y_test, y_pred))\n",
    "\n",
    "print(f\"MAE: {mae:.2f}\")\n",
    "print(f\"RMSE: {rmse:.2f}\")\n"
   ]
  },
  {
   "cell_type": "code",
   "execution_count": 3,
   "id": "8b8a1311",
   "metadata": {},
   "outputs": [
    {
     "name": "stdout",
     "output_type": "stream",
     "text": [
      "Random Forest:\n",
      "MAE: 1.64\n",
      "RMSE: 2.53\n"
     ]
    }
   ],
   "source": [
    "\n",
    "from sklearn.ensemble import RandomForestRegressor\n",
    "\n",
    "# 🔧 Создаём модель\n",
    "rf_model = RandomForestRegressor(\n",
    "    n_estimators=100,     # количество деревьев\n",
    "    max_depth=5,          # максимальная глубина дерева\n",
    "    random_state=42\n",
    ")\n",
    "\n",
    "# 🤖 Обучаем\n",
    "rf_model.fit(X_train, y_train)\n",
    "\n",
    "# 📊 Прогноз и метрики\n",
    "y_pred_rf = rf_model.predict(X_test)\n",
    "\n",
    "mae_rf = mean_absolute_error(y_test, y_pred_rf)\n",
    "rmse_rf = np.sqrt(mean_squared_error(y_test, y_pred_rf))\n",
    "\n",
    "print(\"Random Forest:\")\n",
    "print(f\"MAE: {mae_rf:.2f}\")\n",
    "print(f\"RMSE: {rmse_rf:.2f}\")\n"
   ]
  },
  {
   "cell_type": "code",
   "execution_count": 4,
   "id": "ac2a5001",
   "metadata": {},
   "outputs": [
    {
     "name": "stdout",
     "output_type": "stream",
     "text": [
      "Модель сохранена!\n"
     ]
    }
   ],
   "source": [
    "import joblib\n",
    "\n",
    "# Сохраняем модель в файл\n",
    "joblib.dump(model, '../models/linear_regression_model.joblib')\n",
    "\n",
    "print(\"Модель сохранена!\")\n"
   ]
  },
  {
   "cell_type": "markdown",
   "id": "3ec4e15c",
   "metadata": {},
   "source": [
    "http://127.0.0.1:5000/predict-price?day_of_week=1&rolling_mean_3=105&rolling_std_3=1.5&price_diff=2\n",
    "Для тестового запуска (python app.py в терминал)"
   ]
  }
 ],
 "metadata": {
  "kernelspec": {
   "display_name": "venv",
   "language": "python",
   "name": "python3"
  },
  "language_info": {
   "codemirror_mode": {
    "name": "ipython",
    "version": 3
   },
   "file_extension": ".py",
   "mimetype": "text/x-python",
   "name": "python",
   "nbconvert_exporter": "python",
   "pygments_lexer": "ipython3",
   "version": "3.10.11"
  }
 },
 "nbformat": 4,
 "nbformat_minor": 5
}
